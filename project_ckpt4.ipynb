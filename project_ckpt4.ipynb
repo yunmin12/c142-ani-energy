{
 "cells": [
  {
   "cell_type": "markdown",
   "id": "c461b307-bb9f-43a8-a585-0a227b1209f4",
   "metadata": {},
   "source": [
    "# 1. Data Preparation"
   ]
  },
  {
   "cell_type": "code",
   "execution_count": 1,
   "id": "e3ddb349-1d28-4347-bfc0-15b822a470df",
   "metadata": {},
   "outputs": [],
   "source": [
    "import warnings\n",
    "warnings.filterwarnings(\"ignore\", category=UserWarning)\n",
    "import numpy as np\n",
    "from tqdm import tqdm\n",
    "import torch\n",
    "import torch.nn as nn\n",
    "import torchani"
   ]
  },
  {
   "cell_type": "code",
   "execution_count": 2,
   "id": "ef4cf10f-9ca4-4b12-99cb-9375ae40fa8b",
   "metadata": {},
   "outputs": [
    {
     "name": "stdout",
     "output_type": "stream",
     "text": [
      "cpu\n"
     ]
    }
   ],
   "source": [
    "device = torch.device('cuda' if torch.cuda.is_available() else 'cpu')\n",
    "print(device)"
   ]
  },
  {
   "cell_type": "code",
   "execution_count": 3,
   "id": "db9c1377-1dd2-42eb-a760-508856e10b4e",
   "metadata": {},
   "outputs": [],
   "source": [
    "def load_ani_dataset(dspath):\n",
    "    self_energies = torch.tensor([\n",
    "        0.500607632585, -37.8302333826,\n",
    "        -54.5680045287, -75.0362229210\n",
    "    ], dtype=torch.float, device=device)\n",
    "    energy_shifter = torchani.utils.EnergyShifter(None)\n",
    "    species_order = ['H', 'C', 'N', 'O']\n",
    "\n",
    "    dataset = torchani.data.load(dspath)\n",
    "    dataset = dataset.subtract_self_energies(energy_shifter, species_order)\n",
    "    dataset = dataset.species_to_indices(species_order)\n",
    "    dataset = dataset.shuffle()\n",
    "    return dataset\n",
    "\n",
    "dataset = load_ani_dataset(\"ani_gdb_s01_to_s04.h5\")\n",
    "# Use dataset.split method to do split\n",
    "train_data, val_data, test_data = dataset.split(0.8, 0.1, 0.1)"
   ]
  },
  {
   "cell_type": "code",
   "execution_count": 4,
   "id": "a0ed1ec8-2f8c-4b64-abde-a6830b08d290",
   "metadata": {},
   "outputs": [
    {
     "name": "stdout",
     "output_type": "stream",
     "text": [
      "384\n"
     ]
    }
   ],
   "source": [
    "def init_aev_computer():\n",
    "    Rcr = 5.2\n",
    "    Rca = 3.5\n",
    "    EtaR = torch.tensor([16], dtype=torch.float, device=device)\n",
    "    ShfR = torch.tensor([\n",
    "        0.900000, 1.168750, 1.437500, 1.706250, \n",
    "        1.975000, 2.243750, 2.512500, 2.781250, \n",
    "        3.050000, 3.318750, 3.587500, 3.856250, \n",
    "        4.125000, 4.393750, 4.662500, 4.931250\n",
    "    ], dtype=torch.float, device=device)\n",
    "\n",
    "\n",
    "    EtaA = torch.tensor([8], dtype=torch.float, device=device)\n",
    "    Zeta = torch.tensor([32], dtype=torch.float, device=device)\n",
    "    ShfA = torch.tensor([0.90, 1.55, 2.20, 2.85], dtype=torch.float, device=device)\n",
    "    ShfZ = torch.tensor([\n",
    "        0.19634954, 0.58904862, 0.9817477, 1.37444680, \n",
    "        1.76714590, 2.15984490, 2.5525440, 2.94524300\n",
    "    ], dtype=torch.float, device=device)\n",
    "\n",
    "    num_species = 4\n",
    "    aev_computer = torchani.AEVComputer(\n",
    "        Rcr, Rca, EtaR, ShfR, EtaA, Zeta, ShfA, ShfZ, num_species\n",
    "    )\n",
    "    return aev_computer\n",
    "\n",
    "aev_computer = init_aev_computer()\n",
    "aev_dim = aev_computer.aev_length\n",
    "print(aev_dim)"
   ]
  },
  {
   "cell_type": "code",
   "execution_count": 5,
   "id": "ed13a90b-f03f-4ad0-a9a8-d0df4382c05e",
   "metadata": {},
   "outputs": [],
   "source": [
    "class AtomicNet(nn.Module):\n",
    "    def __init__(self):\n",
    "        super().__init__()\n",
    "        self.layers = nn.Sequential(\n",
    "            nn.Linear(384, 128),\n",
    "            nn.ReLU(),\n",
    "            nn.Linear(128, 1)\n",
    "        )\n",
    "    \n",
    "    def forward(self, x):\n",
    "        return self.layers(x)\n",
    "\n",
    "net_H = AtomicNet()\n",
    "net_C = AtomicNet()\n",
    "net_N = AtomicNet()\n",
    "net_O = AtomicNet()\n",
    "\n",
    "# ANI model requires a network for each atom type\n",
    "# use torch.ANIModel() to compile atomic networks\n",
    "ani_net = torchani.ANIModel([net_H, net_C, net_N, net_O])\n",
    "model = nn.Sequential(\n",
    "    aev_computer,\n",
    "    ani_net\n",
    ").to(device)"
   ]
  },
  {
   "cell_type": "code",
   "execution_count": 6,
   "id": "013e675c-93f5-4564-914a-3f580acc2154",
   "metadata": {},
   "outputs": [],
   "source": [
    "batch_size = 4096\n",
    "train_data_loader = train_data.collate(batch_size=batch_size).cache()\n",
    "val_data_loader = val_data.collate(batch_size=batch_size).cache()\n",
    "test_data_loader = test_data.collate(batch_size=batch_size).cache()"
   ]
  },
  {
   "cell_type": "markdown",
   "id": "0067c86a-790f-428b-a512-bae7c6b252db",
   "metadata": {},
   "source": [
    "# 2. Network Construction and Workflow Development"
   ]
  },
  {
   "cell_type": "markdown",
   "id": "950dfcb4-e0d4-43db-b258-e470e397f4c2",
   "metadata": {},
   "source": [
    "## 2.1. ANITrainer"
   ]
  },
  {
   "cell_type": "code",
   "execution_count": 7,
   "id": "30d8e567-f2d0-4861-a627-2053bc56380a",
   "metadata": {},
   "outputs": [],
   "source": [
    "import torch.optim as optim\n",
    "import matplotlib.pyplot as plt"
   ]
  },
  {
   "cell_type": "code",
   "execution_count": 8,
   "id": "703d6089",
   "metadata": {},
   "outputs": [],
   "source": [
    "class ANITrainer:\n",
    "    def __init__(self, model, batch_size, learning_rate, epoch, l2):\n",
    "        self.model = model\n",
    "        \n",
    "        num_params = sum(item.numel() for item in model.parameters())\n",
    "        print(f\"{model.__class__.__name__} - Number of parameters: {num_params}\")\n",
    "        \n",
    "        self.batch_size = batch_size\n",
    "        self.optimizer = optim.Adam(model.parameters(), lr=learning_rate, weight_decay=l2)\n",
    "        self.epoch = epoch\n",
    "    \n",
    "    def train(self, train_data, val_data, early_stop=True, draw_curve=True):\n",
    "        self.model.train()\n",
    "        \n",
    "        # init data loader\n",
    "        print(\"Initialize training data...\")\n",
    "        train_data_loader = train_data.collate(batch_size=self.batch_size).cache()\n",
    "        train_data_batch = next(iter(train_data_loader))\n",
    "\n",
    "        # definition of loss function: MSE is a good choice! \n",
    "        loss_func = nn.MSELoss()\n",
    "        \n",
    "        # record epoch losses\n",
    "        train_loss_list = []\n",
    "        val_loss_list = []\n",
    "        lowest_val_loss = np.inf\n",
    "        \n",
    "        for i in tqdm(range(self.epoch), leave=True):\n",
    "            train_epoch_loss = 0.0\n",
    "            num_samples = 0\n",
    "            for train_data_batch in train_data_loader:\n",
    "                species = train_data_batch['species'].to(device)\n",
    "                coords = train_data_batch['coordinates'].to(device)\n",
    "                true_energies = train_data_batch['energies'].to(device).float()\n",
    "                \n",
    "                # compute energies\n",
    "                _, pred_energies = self.model((species, coords))\n",
    "                \n",
    "                # compute loss\n",
    "                batch_loss = loss_func(true_energies, pred_energies)\n",
    "                \n",
    "                # do a step\n",
    "                self.optimizer.zero_grad()\n",
    "                batch_loss.backward()\n",
    "                self.optimizer.step()\n",
    "                \n",
    "                batch_importance = species.shape[0]\n",
    "                train_epoch_loss += batch_loss.item() * batch_importance\n",
    "                num_samples += batch_importance\n",
    "            \n",
    "            # use the self.evaluate to get loss on the validation set \n",
    "            train_epoch_loss /= num_samples\n",
    "            val_epoch_loss = self.evaluate(val_data)\n",
    "            \n",
    "            # append the losses\n",
    "            train_loss_list.append(train_epoch_loss)\n",
    "            val_loss_list.append(val_epoch_loss)\n",
    "            \n",
    "            if early_stop:\n",
    "                if val_epoch_loss < lowest_val_loss:\n",
    "                    lowest_val_loss = val_epoch_loss\n",
    "                    weights = self.model.state_dict()\n",
    "        \n",
    "        if draw_curve:\n",
    "            fig, ax = plt.subplots(1, 1, figsize=(5, 4), constrained_layout=True)\n",
    "            ax.set_yscale(\"log\")\n",
    "            # Plot train loss and validation loss\n",
    "            ax.plot(range(len(train_loss_list)), train_loss_list, label='Train')\n",
    "            ax.plot(range(len(val_loss_list)), val_loss_list, label='Validation')\n",
    "            ax.legend()\n",
    "            ax.set_xlabel(\"# Batch\")\n",
    "            ax.set_ylabel(\"Loss\")\n",
    "        \n",
    "        if early_stop:\n",
    "            self.model.load_state_dict(weights)\n",
    "        \n",
    "        return train_loss_list, val_loss_list\n",
    "    \n",
    "    \n",
    "    def evaluate(self, data, draw_plot=False):\n",
    "        \n",
    "        # init data loader\n",
    "        data_loader = data.collate(batch_size=self.batch_size).cache()\n",
    "        train_data_batch = next(iter(train_data_loader))\n",
    "\n",
    "        # init loss function\n",
    "        loss_func = nn.MSELoss()\n",
    "        total_loss = 0.0\n",
    "        num_samples = 0\n",
    "        \n",
    "        if draw_plot:\n",
    "            true_energies_all = []\n",
    "            pred_energies_all = []\n",
    "            \n",
    "        with torch.no_grad():\n",
    "            for batch_data in data_loader:\n",
    "                species = train_data_batch['species'].to(device)\n",
    "                coords = train_data_batch['coordinates'].to(device)\n",
    "                true_energies = train_data_batch['energies'].to(device).float()\n",
    "                \n",
    "                # compute energies\n",
    "                _, pred_energies = self.model((species, coords))\n",
    "                 \n",
    "                # compute loss\n",
    "                batch_loss = loss_func(pred_energies, true_energies)\n",
    "\n",
    "                batch_importance = species.shape[0]\n",
    "                total_loss += batch_loss.item() * batch_importance\n",
    "                num_samples += batch_importance\n",
    "                \n",
    "                if draw_plot:\n",
    "                    true_energies_all.append(true_energies.detach().cpu().numpy().flatten())\n",
    "                    pred_energies_all.append(pred_energies.detach().cpu().numpy().flatten())\n",
    "\n",
    "        total_loss /= num_samples\n",
    "\n",
    "        if draw_plot:\n",
    "            true_energies_all = np.concatenate(true_energies_all)\n",
    "            pred_energies_all = np.concatenate(pred_energies_all)\n",
    "            # Report the mean absolute error\n",
    "            # The unit of energies in the dataset is hartree\n",
    "            # please convert it to kcal/mol when reporting the mean absolute error\n",
    "            # 1 hartree = 627.5094738898777 kcal/mol\n",
    "            # MAE = mean(|true - pred|)\n",
    "            hartree2kcalmol = 627.5094738898777\n",
    "            mae = np.mean(np.abs(true_energies_all - pred_energies_all)) * hartree2kcalmol\n",
    "            fig, ax = plt.subplots(1, 1, figsize=(5, 4), constrained_layout=True)\n",
    "            ax.scatter(true_energies_all, pred_energies_all, label=f\"MAE: {mae:.2f} kcal/mol\", s=2)\n",
    "            ax.set_xlabel(\"Ground Truth\")\n",
    "            ax.set_ylabel(\"Predicted\")\n",
    "            xmin, xmax = ax.get_xlim()\n",
    "            ymin, ymax = ax.get_ylim()\n",
    "            vmin, vmax = min(xmin, ymin), max(xmax, ymax)\n",
    "            ax.set_xlim(vmin, vmax)\n",
    "            ax.set_ylim(vmin, vmax)\n",
    "            ax.plot([vmin, vmax], [vmin, vmax], color='red')\n",
    "            ax.legend()\n",
    "            \n",
    "        return total_loss\n",
    "        "
   ]
  },
  {
   "cell_type": "markdown",
   "id": "d8ac8a93-e071-4f2b-a853-0033ac07338f",
   "metadata": {
    "jp-MarkdownHeadingCollapsed": true
   },
   "source": [
    "## 2.2. Demonstration on a subset"
   ]
  },
  {
   "cell_type": "code",
   "execution_count": 26,
   "id": "66a652d3-b1d9-4ee3-ac3f-d9ed0e0d0fb0",
   "metadata": {},
   "outputs": [
    {
     "name": "stdout",
     "output_type": "stream",
     "text": [
      "Sequential - Number of parameters: 197636\n",
      "Initialize training data...\n"
     ]
    },
    {
     "name": "stderr",
     "output_type": "stream",
     "text": [
      "100%|██████████| 10/10 [01:12<00:00,  7.22s/it]\n"
     ]
    },
    {
     "name": "stdout",
     "output_type": "stream",
     "text": [
      "Validation Loss: 7.435047816464e-05\n"
     ]
    },
    {
     "data": {
      "image/png": "[encoded data removed]",
      "text/plain": [
       "<Figure size 500x400 with 1 Axes>"
      ]
     },
     "metadata": {},
     "output_type": "display_data"
    },
    {
     "data": {
      "image/png": "[encoded data removed]",
      "text/plain": [
       "<Figure size 500x400 with 1 Axes>"
      ]
     },
     "metadata": {},
     "output_type": "display_data"
    }
   ],
   "source": [
    "# train the ANITrainer\n",
    "trainer = ANITrainer(model, batch_size=4096, learning_rate=1e-4, epoch=10, l2=1e-5)\n",
    "train_loss_list, val_loss_list = trainer.train(train_data, val_data, early_stop=True, draw_curve=True)\n",
    "val_loss = trainer.evaluate(val_data, draw_plot=True)\n",
    "print(\"Validation Loss:\", val_loss)"
   ]
  },
  {
   "cell_type": "markdown",
   "id": "70bda26a-8044-4434-86da-00c622e71ee8",
   "metadata": {},
   "source": [
    "# 3. Regularization and Hyperparameter Tuning"
   ]
  },
  {
   "cell_type": "markdown",
   "id": "c8a33add-9484-4b26-8115-5a9971c79194",
   "metadata": {},
   "source": [
    "## 3.1. Data Augmentation"
   ]
  },
  {
   "cell_type": "code",
   "execution_count": 16,
   "id": "614bf701-ce34-4a03-96e1-5adc475c00bc",
   "metadata": {},
   "outputs": [
    {
     "name": "stdout",
     "output_type": "stream",
     "text": [
      "  % Total    % Received % Xferd  Average Speed   Time    Time     Time  Current\n",
      "                                 Dload  Upload   Total   Spent    Left  Speed\n",
      "  0     0    0     0    0     0      0      0 --:--:-- --:--:-- --:--:--     0\n",
      "100 4584M  100 4584M    0     0  12.8M      0  0:05:57  0:05:57 --:--:-- 19.8M97k\n"
     ]
    }
   ],
   "source": [
    "!curl -L https://ndownloader.figshare.com/files/9057631 -o ANI1_release.tar.gz"
   ]
  },
  {
   "cell_type": "code",
   "execution_count": 21,
   "id": "20f65a00-5f01-4572-82a7-c2f3e2a661d4",
   "metadata": {},
   "outputs": [],
   "source": [
    "!tar -xzf ANI1_release.tar.gz"
   ]
  },
  {
   "cell_type": "code",
   "execution_count": 11,
   "id": "e3f47c45-232e-45c6-aff6-a76635b968ff",
   "metadata": {},
   "outputs": [
    {
     "name": "stdout",
     "output_type": "stream",
     "text": [
      "Processing ./ANI-1_release/ani_gdb_s01.h5...\n",
      "Copied group 'gdb11_s01' as 'gdb11_s01'\n",
      "Processing ./ANI-1_release/ani_gdb_s02.h5...\n",
      "Copied group 'gdb11_s02' as 'gdb11_s02'\n",
      "Processing ./ANI-1_release/ani_gdb_s03.h5...\n",
      "Copied group 'gdb11_s03' as 'gdb11_s03'\n",
      "Processing ./ANI-1_release/ani_gdb_s04.h5...\n",
      "Copied group 'gdb11_s04' as 'gdb11_s04'\n",
      "Processing ./ANI-1_release/ani_gdb_s05.h5...\n",
      "Copied group 'gdb11_s05' as 'gdb11_s05'\n",
      "Processing ./ANI-1_release/ani_gdb_s06.h5...\n",
      "Copied group 'gdb11_s06' as 'gdb11_s06'\n",
      "Merged groups from 6 files into ./ani_gdb_s01_to_s06.h5\n"
     ]
    }
   ],
   "source": [
    "import h5py\n",
    "import glob\n",
    "\n",
    "def merge_hdf5_groups(input_dir, output_file):\n",
    "    # file_list = sorted(glob.glob(f\"{input_dir}/ani_gdb_s0*.h5\"))\n",
    "    file_list = sorted(glob.glob(f\"{input_dir}/ani_gdb_s0[1-6].h5\"))\n",
    "    if not file_list:\n",
    "        print(\"No HDF5 files found in the input directory\")\n",
    "        return\n",
    "    \n",
    "    with h5py.File(output_file, 'w') as fout:\n",
    "        for file in file_list:\n",
    "            print(f\"Processing {file}...\")\n",
    "            with h5py.File(file, 'r') as fin:\n",
    "                for key in fin.keys():\n",
    "                    new_key = key\n",
    "                    suffix = 1\n",
    "                    while new_key in fout:\n",
    "                        new_key = f\"{key}_{suffix}\"\n",
    "                        suffix += 1\n",
    "                    fin.copy(key, fout, new_key)\n",
    "                    print(f\"Copied group '{key}' as '{new_key}'\")\n",
    "    print(f\"Merged groups from {len(file_list)} files into {output_file}\")\n",
    "\n",
    "\n",
    "input_directory = \"./ANI-1_release\"\n",
    "output_h5_file = \"./ani_gdb_s01_to_s06.h5\"\n",
    "merge_hdf5_groups(input_directory, output_h5_file)"
   ]
  },
  {
   "cell_type": "code",
   "execution_count": 9,
   "id": "18d8a9ff-5b7a-40f6-b7c3-4b291597441e",
   "metadata": {},
   "outputs": [],
   "source": [
    "# Reload the dataset with augmented ANI-1 dataset\n",
    "dataset = load_ani_dataset(\"./ani_gdb_s01_to_s06.h5\")\n",
    "# Use dataset.split method to do split\n",
    "train_data, val_data, test_data = dataset.split(0.8, 0.1, 0.1)"
   ]
  },
  {
   "cell_type": "code",
   "execution_count": 10,
   "id": "a155f265-e1e3-4344-bb7d-f5b3331f5532",
   "metadata": {},
   "outputs": [
    {
     "name": "stdout",
     "output_type": "stream",
     "text": [
      "384\n"
     ]
    }
   ],
   "source": [
    "# Initialize aev computer\n",
    "aev_computer = init_aev_computer()\n",
    "aev_dim = aev_computer.aev_length\n",
    "print(aev_dim)"
   ]
  },
  {
   "cell_type": "markdown",
   "id": "d73d082e-6174-47ca-9193-21bcab746130",
   "metadata": {},
   "source": [
    "## 3.2. Regularization"
   ]
  },
  {
   "cell_type": "code",
   "execution_count": 11,
   "id": "49c8e514-82aa-4237-bd87-309485ed59c2",
   "metadata": {},
   "outputs": [],
   "source": [
    "# Apply Dropout\n",
    "class AtomicNet(nn.Module):\n",
    "    def __init__(self, dropout_rate=0.0):\n",
    "        super().__init__()\n",
    "        self.layers = nn.Sequential(\n",
    "            nn.Linear(384, 128),\n",
    "            nn.ReLU(),\n",
    "            nn.Dropout(dropout_rate) if dropout_rate > 0 else nn.Identity(),\n",
    "            nn.Linear(128, 1)\n",
    "        )\n",
    "    \n",
    "    def forward(self, x):\n",
    "        return self.layers(x)"
   ]
  },
  {
   "cell_type": "code",
   "execution_count": 12,
   "id": "775ff686-657a-4d36-9598-bd0c70e09957",
   "metadata": {},
   "outputs": [],
   "source": [
    "def create_ani_model(dropout_rate=0.0):\n",
    "    net_H = AtomicNet(dropout_rate)\n",
    "    net_C = AtomicNet(dropout_rate)\n",
    "    net_N = AtomicNet(dropout_rate)\n",
    "    net_O = AtomicNet(dropout_rate)\n",
    "\n",
    "    # ANI model requires a network for each atom type\n",
    "    # use torch.ANIModel() to compile atomic networks\n",
    "    ani_net = torchani.ANIModel([net_H, net_C, net_N, net_O])\n",
    "    model = nn.Sequential(\n",
    "        aev_computer,\n",
    "        ani_net\n",
    "    ).to(device)\n",
    "        \n",
    "    return model"
   ]
  },
  {
   "cell_type": "code",
   "execution_count": 13,
   "id": "5c8a0c5d-92f6-4f2d-8cd7-5458299a2b3c",
   "metadata": {},
   "outputs": [],
   "source": [
    "# We already had L2 regularization as `weight_decay`\n",
    "# Add L1 regularization term\n",
    "class ANITrainer:\n",
    "    def __init__(self, model, batch_size, learning_rate, epoch, l2, l1=0.0):\n",
    "        self.model = model.to(device)\n",
    "        \n",
    "        # Count total number of parameters\n",
    "        num_params = sum(item.numel() for item in model.parameters())\n",
    "        print(f\"{model.__class__.__name__} - Number of parameters: {num_params}\")\n",
    "\n",
    "        # Hyperparameters setting\n",
    "        self.batch_size = batch_size\n",
    "        self.optimizer = optim.Adam(model.parameters(), lr=learning_rate, weight_decay=l2)\n",
    "        self.epoch = epoch\n",
    "        self.l1 = l1  # L1 regularization strength\n",
    "\n",
    "    def train(self, train_data, val_data, early_stop=True, draw_curve=False):\n",
    "        self.model.train()\n",
    "        print(\"Initializing training data...\")\n",
    "        train_data_loader = train_data.collate(batch_size=self.batch_size).cache()\n",
    "        \n",
    "        loss_func = nn.MSELoss()\n",
    "        train_loss_list = []\n",
    "        val_loss_list = []\n",
    "        lowest_val_loss = np.inf\n",
    "        best_weights = None\n",
    "\n",
    "        for epoch_idx in tqdm(range(self.epoch), leave=True):\n",
    "            train_epoch_loss = 0.0\n",
    "            num_samples = 0\n",
    "            for train_data_batch in train_data_loader:\n",
    "                species = train_data_batch['species'].to(device)\n",
    "                coords = train_data_batch['coordinates'].to(device)\n",
    "                true_energies = train_data_batch['energies'].to(device).float()\n",
    "                \n",
    "                _, pred_energies = self.model((species, coords))\n",
    "                batch_loss = loss_func(true_energies, pred_energies)\n",
    "                \n",
    "                # Add L1 regularization loss\n",
    "                if self.l1 > 0:\n",
    "                    l1_loss = 0.0\n",
    "                    for param in self.model.parameters():\n",
    "                        l1_loss += torch.norm(param, 1)\n",
    "                    batch_loss += self.l1 * l1_loss\n",
    "                \n",
    "                self.optimizer.zero_grad()\n",
    "                batch_loss.backward()\n",
    "                self.optimizer.step()\n",
    "                \n",
    "                batch_size_current = species.shape[0]\n",
    "                train_epoch_loss += batch_loss.item() * batch_size_current\n",
    "                num_samples += batch_size_current\n",
    "\n",
    "            train_epoch_loss /= num_samples\n",
    "            train_loss_list.append(train_epoch_loss)\n",
    "            val_epoch_loss = self.evaluate(val_data)\n",
    "            val_loss_list.append(val_epoch_loss)\n",
    "            \n",
    "            if early_stop:\n",
    "                if val_epoch_loss < lowest_val_loss:\n",
    "                    lowest_val_loss = val_epoch_loss\n",
    "                    best_weights = self.model.state_dict().copy()\n",
    "        \n",
    "        if draw_curve:\n",
    "            fig, ax = plt.subplots(1, 1, figsize=(5, 4), constrained_layout=True)\n",
    "            ax.set_yscale(\"log\")\n",
    "            ax.plot(range(len(train_loss_list)), train_loss_list, label='Train')\n",
    "            ax.plot(range(len(val_loss_list)), val_loss_list, label='Validation')\n",
    "            ax.legend()\n",
    "            ax.set_xlabel(\"Epoch\")\n",
    "            ax.set_ylabel(\"Loss\")\n",
    "            plt.show()\n",
    "        \n",
    "        if early_stop and best_weights is not None:\n",
    "            self.model.load_state_dict(best_weights)\n",
    "        \n",
    "        return train_loss_list, val_loss_list\n",
    "\n",
    "    def evaluate(self, data, draw_plot=False):\n",
    "        data_loader = data.collate(batch_size=self.batch_size).cache()\n",
    "        loss_func = nn.MSELoss()\n",
    "        total_loss = 0.0\n",
    "        num_samples = 0\n",
    "        \n",
    "        if draw_plot:\n",
    "            true_energies_all = []\n",
    "            pred_energies_all = []\n",
    "        \n",
    "        self.model.eval()\n",
    "        with torch.no_grad():\n",
    "            for batch_data in data_loader:\n",
    "                species = batch_data['species'].to(device)\n",
    "                coords = batch_data['coordinates'].to(device)\n",
    "                true_energies = batch_data['energies'].to(device).float()\n",
    "                \n",
    "                _, pred_energies = self.model((species, coords))\n",
    "                batch_loss = loss_func(pred_energies, true_energies)\n",
    "                batch_size_current = species.shape[0]\n",
    "                total_loss += batch_loss.item() * batch_size_current\n",
    "                num_samples += batch_size_current\n",
    "                \n",
    "                if draw_plot:\n",
    "                    true_energies_all.append(true_energies.cpu().numpy().flatten())\n",
    "                    pred_energies_all.append(pred_energies.cpu().numpy().flatten())\n",
    "\n",
    "        total_loss /= num_samples\n",
    "        \n",
    "        if draw_plot:\n",
    "            true_energies_all = np.concatenate(true_energies_all)\n",
    "            pred_energies_all = np.concatenate(pred_energies_all)\n",
    "            # Convert hartree to kcal/mol (1 hartree = 627.5094738898777 kcal/mol)\n",
    "            hartree2kcalmol = 627.5094738898777\n",
    "            mae = np.mean(np.abs(true_energies_all - pred_energies_all)) * hartree2kcalmol\n",
    "            fig, ax = plt.subplots(1, 1, figsize=(5, 4), constrained_layout=True)\n",
    "            ax.scatter(true_energies_all, pred_energies_all, label=f\"MAE: {mae:.2f} kcal/mol\", s=2)\n",
    "            ax.set_xlabel(\"Ground Truth\")\n",
    "            ax.set_ylabel(\"Predicted\")\n",
    "            vmin = min(ax.get_xlim()[0], ax.get_ylim()[0])\n",
    "            vmax = max(ax.get_xlim()[1], ax.get_ylim()[1])\n",
    "            ax.set_xlim(vmin, vmax)\n",
    "            ax.set_ylim(vmin, vmax)\n",
    "            ax.plot([vmin, vmax], [vmin, vmax], color='red')\n",
    "            ax.legend()\n",
    "            plt.show()\n",
    "            \n",
    "        return total_loss"
   ]
  },
  {
   "cell_type": "markdown",
   "id": "03d35ccf-8299-4ba4-8695-3be9737a530d",
   "metadata": {},
   "source": [
    "## 3.3. Hyperparameter Tuning"
   ]
  },
  {
   "cell_type": "code",
   "execution_count": 14,
   "id": "134de722-9fad-484c-921e-f8000bae60a7",
   "metadata": {},
   "outputs": [
    {
     "name": "stdout",
     "output_type": "stream",
     "text": [
      "\n",
      "---- Experiment 1 ----\n",
      "Sequential - Number of parameters: 197636\n",
      "Initializing training data...\n"
     ]
    },
    {
     "ename": "KeyboardInterrupt",
     "evalue": "",
     "output_type": "error",
     "traceback": [
      "\u001b[0;31m---------------------------------------------------------------------------\u001b[0m",
      "\u001b[0;31mKeyboardInterrupt\u001b[0m                         Traceback (most recent call last)",
      "Cell \u001b[0;32mIn[14], line 30\u001b[0m\n\u001b[1;32m     27\u001b[0m \u001b[38;5;66;03m# Initialize the trainer with current hyperparameter settings\u001b[39;00m\n\u001b[1;32m     28\u001b[0m trainer \u001b[38;5;241m=\u001b[39m ANITrainer(model, batch_size, learning_rate, epoch, l2, l1)\n\u001b[0;32m---> 30\u001b[0m \u001b[43mtrainer\u001b[49m\u001b[38;5;241;43m.\u001b[39;49m\u001b[43mtrain\u001b[49m\u001b[43m(\u001b[49m\u001b[43mtrain_data\u001b[49m\u001b[43m,\u001b[49m\u001b[43m \u001b[49m\u001b[43mval_data\u001b[49m\u001b[43m,\u001b[49m\u001b[43m \u001b[49m\u001b[43mearly_stop\u001b[49m\u001b[38;5;241;43m=\u001b[39;49m\u001b[38;5;28;43;01mTrue\u001b[39;49;00m\u001b[43m,\u001b[49m\u001b[43m \u001b[49m\u001b[43mdraw_curve\u001b[49m\u001b[38;5;241;43m=\u001b[39;49m\u001b[38;5;28;43;01mTrue\u001b[39;49;00m\u001b[43m)\u001b[49m\n\u001b[1;32m     31\u001b[0m val_loss \u001b[38;5;241m=\u001b[39m trainer\u001b[38;5;241m.\u001b[39mevaluate(val_data, draw_plot\u001b[38;5;241m=\u001b[39m\u001b[38;5;28;01mTrue\u001b[39;00m)\n\u001b[1;32m     32\u001b[0m \u001b[38;5;28mprint\u001b[39m(\u001b[38;5;124mf\u001b[39m\u001b[38;5;124m\"\u001b[39m\u001b[38;5;124mExperiment \u001b[39m\u001b[38;5;132;01m{\u001b[39;00midx\u001b[38;5;241m+\u001b[39m\u001b[38;5;241m1\u001b[39m\u001b[38;5;132;01m}\u001b[39;00m\u001b[38;5;124m - Validation Loss:\u001b[39m\u001b[38;5;124m\"\u001b[39m,val_loss)\n",
      "Cell \u001b[0;32mIn[13], line 20\u001b[0m, in \u001b[0;36mANITrainer.train\u001b[0;34m(self, train_data, val_data, early_stop, draw_curve)\u001b[0m\n\u001b[1;32m     18\u001b[0m \u001b[38;5;28mself\u001b[39m\u001b[38;5;241m.\u001b[39mmodel\u001b[38;5;241m.\u001b[39mtrain()\n\u001b[1;32m     19\u001b[0m \u001b[38;5;28mprint\u001b[39m(\u001b[38;5;124m\"\u001b[39m\u001b[38;5;124mInitializing training data...\u001b[39m\u001b[38;5;124m\"\u001b[39m)\n\u001b[0;32m---> 20\u001b[0m train_data_loader \u001b[38;5;241m=\u001b[39m \u001b[43mtrain_data\u001b[49m\u001b[38;5;241;43m.\u001b[39;49m\u001b[43mcollate\u001b[49m\u001b[43m(\u001b[49m\u001b[43mbatch_size\u001b[49m\u001b[38;5;241;43m=\u001b[39;49m\u001b[38;5;28;43mself\u001b[39;49m\u001b[38;5;241;43m.\u001b[39;49m\u001b[43mbatch_size\u001b[49m\u001b[43m)\u001b[49m\u001b[38;5;241;43m.\u001b[39;49m\u001b[43mcache\u001b[49m\u001b[43m(\u001b[49m\u001b[43m)\u001b[49m\n\u001b[1;32m     22\u001b[0m loss_func \u001b[38;5;241m=\u001b[39m nn\u001b[38;5;241m.\u001b[39mMSELoss()\n\u001b[1;32m     23\u001b[0m train_loss_list \u001b[38;5;241m=\u001b[39m []\n",
      "File \u001b[0;32m/global/scratch/users/ericwangyz/chem242/ani/lib/python3.10/site-packages/torchani/data/__init__.py:321\u001b[0m, in \u001b[0;36mTransformableIterable.__getattr__.<locals>.f\u001b[0;34m(*args, **kwargs)\u001b[0m\n\u001b[1;32m    318\u001b[0m \u001b[38;5;129m@functools\u001b[39m\u001b[38;5;241m.\u001b[39mwraps(transformation)\n\u001b[1;32m    319\u001b[0m \u001b[38;5;28;01mdef\u001b[39;00m \u001b[38;5;21mf\u001b[39m(\u001b[38;5;241m*\u001b[39margs, \u001b[38;5;241m*\u001b[39m\u001b[38;5;241m*\u001b[39mkwargs):\n\u001b[1;32m    320\u001b[0m     \u001b[38;5;28;01mreturn\u001b[39;00m TransformableIterable(\n\u001b[0;32m--> 321\u001b[0m         \u001b[43mtransformation\u001b[49m\u001b[43m(\u001b[49m\u001b[38;5;28;43mself\u001b[39;49m\u001b[38;5;241;43m.\u001b[39;49m\u001b[43mwrapped_iterable\u001b[49m\u001b[43m,\u001b[49m\u001b[43m \u001b[49m\u001b[38;5;241;43m*\u001b[39;49m\u001b[43margs\u001b[49m\u001b[43m,\u001b[49m\u001b[43m \u001b[49m\u001b[38;5;241;43m*\u001b[39;49m\u001b[38;5;241;43m*\u001b[39;49m\u001b[43mkwargs\u001b[49m\u001b[43m)\u001b[49m,\n\u001b[1;32m    322\u001b[0m         \u001b[38;5;28mself\u001b[39m\u001b[38;5;241m.\u001b[39mtransformations \u001b[38;5;241m+\u001b[39m (name,))\n",
      "File \u001b[0;32m/global/scratch/users/ericwangyz/chem242/ani/lib/python3.10/site-packages/torchani/data/__init__.py:268\u001b[0m, in \u001b[0;36mTransformations.cache\u001b[0;34m(reenterable_iterable)\u001b[0m\n\u001b[1;32m    266\u001b[0m \u001b[38;5;28;01mif\u001b[39;00m \u001b[38;5;28misinstance\u001b[39m(reenterable_iterable, \u001b[38;5;28mlist\u001b[39m):\n\u001b[1;32m    267\u001b[0m     \u001b[38;5;28;01mreturn\u001b[39;00m reenterable_iterable\n\u001b[0;32m--> 268\u001b[0m ret \u001b[38;5;241m=\u001b[39m \u001b[38;5;28;43mlist\u001b[39;49m\u001b[43m(\u001b[49m\u001b[43mreenterable_iterable\u001b[49m\u001b[43m)\u001b[49m\n\u001b[1;32m    269\u001b[0m \u001b[38;5;28;01mdel\u001b[39;00m reenterable_iterable\n\u001b[1;32m    270\u001b[0m gc\u001b[38;5;241m.\u001b[39mcollect()\n",
      "File \u001b[0;32m/global/scratch/users/ericwangyz/chem242/ani/lib/python3.10/site-packages/torchani/data/__init__.py:279\u001b[0m, in \u001b[0;36mTransformations.collate.<locals>.reenterable_iterable_factory\u001b[0;34m(padding)\u001b[0m\n\u001b[1;32m    277\u001b[0m i \u001b[38;5;241m=\u001b[39m \u001b[38;5;241m0\u001b[39m\n\u001b[1;32m    278\u001b[0m \u001b[38;5;28;01mfor\u001b[39;00m d \u001b[38;5;129;01min\u001b[39;00m reenterable_iterable:\n\u001b[0;32m--> 279\u001b[0m     \u001b[43mbatch\u001b[49m\u001b[38;5;241;43m.\u001b[39;49m\u001b[43mappend\u001b[49m\u001b[43m(\u001b[49m\u001b[43md\u001b[49m\u001b[43m)\u001b[49m\n\u001b[1;32m    280\u001b[0m     i \u001b[38;5;241m+\u001b[39m\u001b[38;5;241m=\u001b[39m \u001b[38;5;241m1\u001b[39m\n\u001b[1;32m    281\u001b[0m     \u001b[38;5;28;01mif\u001b[39;00m i \u001b[38;5;241m==\u001b[39m batch_size:\n",
      "\u001b[0;31mKeyboardInterrupt\u001b[0m: "
     ]
    }
   ],
   "source": [
    "# We will experiment various combination of hyperparameters\n",
    "# Grid search enables finding optimal hyperparameter setting more efficiently than random search\n",
    "# Define hyperparameter grids\n",
    "hyperparams = [\n",
    "    # (dropout_rate, learning_rate, batch_size, l2, l1, epoch)\n",
    "    (0.4, 1e-4, 4096, 1e-5, 0.0, 10), # best setting in ckpt3\n",
    "    (0.0, 1e-4, 4096, 1e-5, 0.0, 10),\n",
    "    (0.4, 1e-4, 1024, 1e-5, 0.0, 10),\n",
    "    \n",
    "]\n",
    "\n",
    "# Record each experiment's hyperparameters and validation loss\n",
    "results = []\n",
    "\n",
    "best_val_loss = np.inf\n",
    "best_params = None\n",
    "best_trainer = None\n",
    "\n",
    "# Grid search loop\n",
    "for idx, params in enumerate(hyperparams):\n",
    "    print(f\"\\n---- Experiment {idx+1} ----\")\n",
    "    dropout_rate, learning_rate, batch_size, l2, l1, epoch = params\n",
    "    \n",
    "    # Create a new ANI model using the specified dropout rate\n",
    "    model = create_ani_model(dropout_rate)\n",
    "    \n",
    "    # Initialize the trainer with current hyperparameter settings\n",
    "    trainer = ANITrainer(model, batch_size, learning_rate, epoch, l2, l1)\n",
    "    \n",
    "    trainer.train(train_data, val_data, early_stop=True, draw_curve=True)\n",
    "    val_loss = trainer.evaluate(val_data, draw_plot=True)\n",
    "    print(f\"Experiment {idx+1} - Validation Loss:\",val_loss)\n",
    "    \n",
    "    exp_result = {\n",
    "        'experiment': idx+1,\n",
    "        'dropout_rate': dropout_rate,\n",
    "        'learning_rate': learning_rate,\n",
    "        'batch_size': batch_size,\n",
    "        'l2': l2,\n",
    "        'l1': l1,\n",
    "        'epoch': epoch,\n",
    "        'val_loss': val_loss\n",
    "    }\n",
    "    results.append(exp_result)\n",
    "    \n",
    "    # Based on the current validation loss, update best model\n",
    "    if val_loss < best_val_loss:\n",
    "        best_val_loss = val_loss\n",
    "        best_params = params\n",
    "        best_trainer = trainer"
   ]
  },
  {
   "cell_type": "code",
   "execution_count": null,
   "id": "4e984451-c4b5-4548-b01f-dee676d5cf76",
   "metadata": {},
   "outputs": [],
   "source": [
    "import pickle\n",
    "with open(\"grid_search_results.pkl\", \"wb\") as f:\n",
    "    pickle.dump(results, f)\n",
    "print(\"Grid search results saved to grid_search_results.pkl\")\n",
    "\n",
    "print(\"\\n---- Best Hyperparameter Combination ----\")\n",
    "print(f\"Dropout Rate: {best_params[0]}, Learning Rate: {best_params[1]}, Batch Size: {best_params[2]}, \"\n",
    "      f\"L2: {best_params[3]}, L1: {best_params[4]}, Epoch: {best_params[5]}\")\n",
    "print(f\"Best Validation Loss:\", best_val_loss)\n",
    "\n",
    "# Evaluate the best model on test_data\n",
    "test_loss = best_trainer.evaluate(test_data, draw_plot=True)\n",
    "print(f\"Test Loss:\", test_loss)"
   ]
  },
  {
   "cell_type": "code",
   "execution_count": null,
   "id": "0f01055a-bcbe-4eec-bb04-a105c03d96ab",
   "metadata": {
    "scrolled": true
   },
   "outputs": [],
   "source": [
    "import pandas as pd\n",
    "df_results = pd.DataFrame(results)\n",
    "print(\"\\nGrid Search Results:\")\n",
    "print(df_results)\n",
    "\n",
    "# Visualization of validation loss for each experiment\n",
    "plt.figure(figsize=(8, 6))\n",
    "plt.bar(df_results['experiment'].astype(str), df_results['val_loss'])\n",
    "plt.xlabel('Experiment')\n",
    "plt.ylabel('Validation Loss')\n",
    "plt.title('Validation Loss per Experiment')\n",
    "plt.savefig(\"val_loss_bar.png\")\n",
    "plt.show()"
   ]
  },
  {
   "cell_type": "markdown",
   "id": "debede42-628b-40e2-ab71-6180ffa111cd",
   "metadata": {},
   "source": [
    "## Interpretation of Results"
   ]
  },
  {
   "cell_type": "markdown",
   "id": "a0c8cfb1-4e33-465d-9658-d9fc88b0503b",
   "metadata": {},
   "source": [
    "In checkpoint 2, we used ANI-1 subset of s01 to s04, and we set hyperparameters as batch_size=8192, learning_rate=1e-4, epoch=10, l2=1e-5. The result of training was MAE = 3.40kcal/mol, which was reasonable, but there was the room for improvement. In this checkpoint, we increased the dataset to s06, and adjusted hyperparameter values and regularization to find out the best model that we can come up with.\n",
    "We did 7 experiments with different hyperparameter values and compared their MAE and validation loss, and got Exp4 with dropout_rate=0.4, batch=4096, learning rate = 1e-4, l2=1e-5, and l2=0.0 as the best model with lowest MAE (2.19kcal/mol) and validation loss (10.71)."
   ]
  },
  {
   "cell_type": "markdown",
   "id": "a304ef43-5752-4a59-84d2-a468782ee339",
   "metadata": {},
   "source": [
    "### Batch Size"
   ]
  },
  {
   "cell_type": "markdown",
   "id": "9203a0d0-16c2-4001-8696-03097cc6dcca",
   "metadata": {},
   "source": [
    "For the batch size, while all other experiments were batch = 8192, only Exp4 was lowered by half (4096). This resulted in huge improvement, compared to Exp2 where all the other parameters except batch size was same, as the validation loss was cut by 40% (from 17.9 to 10.7). Although we did not experiment with smaller batch size, it seems that size of 4096 is very suitable in this model."
   ]
  },
  {
   "cell_type": "markdown",
   "id": "8ac844e6-d15f-452f-b4ff-364cfb8e3fda",
   "metadata": {},
   "source": [
    "### Dropout"
   ]
  },
  {
   "cell_type": "markdown",
   "id": "de70b98e-fbba-44db-a495-ffd27f94af4e",
   "metadata": {},
   "source": [
    "In case of dropout, we compared which dropout rate is best using Exp1 to Exp3 validation loss. In Exp1 (0.0) -> Exp2 (0.4), the loss was worsened slightly (15.8 to 17.9). From Exp2(0.4) to Exp3(0.6) the loss worsened further. However, when dropout rate was 0.4 and batch size became smaller (Exp4), the loss was the lowest. By this result, we can see that too much droput hurts, but small dropout with smaller batch size might help."
   ]
  },
  {
   "cell_type": "markdown",
   "id": "51cf3d5a-dd60-49fb-b9ae-96ab90e4d730",
   "metadata": {},
   "source": [
    "### L2 and L1 Regularization"
   ]
  },
  {
   "cell_type": "markdown",
   "id": "7734e021-658c-4eb7-9c0f-5c7fdd9e43c8",
   "metadata": {},
   "source": [
    "In the case of l1, which we used in Exp5, it makes the catastrophic result as the loss shooted up to 199.5. This can mean that many weights were forced to zero early, making the model have a hard time to learn. For l2, when we adjusted l2=1e-5 to 1e-4, the loss became 4 times larger than Exp4, which had all the same parameters except l2. From these results, we can conclude that model with no l1 and l2=1e-5 works best."
   ]
  },
  {
   "cell_type": "markdown",
   "id": "6f91d8c1-41dd-48ea-acfc-b87e15315ffc",
   "metadata": {},
   "source": [
    "### Learning Rate"
   ]
  },
  {
   "cell_type": "markdown",
   "id": "c478ffb4-c6a9-4f09-ba30-70e89092b958",
   "metadata": {},
   "source": [
    "Halving lr from 1e‑4 to 5e‑5 (Exp 6) doubles the loss (17.9 -> 31.8). Ten epochs are apparently not enough for the smaller step size to reach a good minimum, so there should probably be more epochs to find out the possible optimum learning rate (we can work on this in later steps). However, as we see very low MAE and validation loss in Exp4 which has lr=1e-4, it seems that this value is suitable for the model."
   ]
  },
  {
   "cell_type": "markdown",
   "id": "40b5c810-8041-4246-9f2d-f837f0c97525",
   "metadata": {},
   "source": [
    "### Conclusion"
   ]
  },
  {
   "cell_type": "markdown",
   "id": "3b258bed-a3c7-45b1-acb3-71dd9563eb86",
   "metadata": {},
   "source": [
    "We conclude that Exp4 with dropout_rate=0.4, batch=4096, learning rate = 1e-4, l2=1e-5, and l2=0.0 as the best model with lowest MAE (2.19kcal/mol) and validation loss (10.71). This seems pretty reasonable choice to be our final parameter values, but we can still test more in later steps, especially with dropout and number of epochs."
   ]
  },
  {
   "cell_type": "markdown",
   "id": "2af73703-3719-48e3-ac30-05656ee9db25",
   "metadata": {},
   "source": [
    "*Group work of Jaewon Kim and Yunmin Kim."
   ]
  },
  {
   "cell_type": "markdown",
   "id": "bd1a8f2b-fa82-4efe-9ca3-aaffb73264a6",
   "metadata": {},
   "source": [
    "## 4. K-fold cross validation and Final training"
   ]
  },
  {
   "cell_type": "code",
   "execution_count": 15,
   "id": "e6e255cf-9718-48f8-949e-2146260f4ecf",
   "metadata": {},
   "outputs": [],
   "source": [
    "from sklearn.model_selection import KFold"
   ]
  },
  {
   "cell_type": "code",
   "execution_count": 27,
   "id": "f8a653f9-29be-4553-9d03-33c48cf553de",
   "metadata": {},
   "outputs": [],
   "source": [
    "# Reload the dataset with augmented ANI-1 dataset\n",
    "small_dataset = load_ani_dataset(\"./ani_gdb_s01_to_s04.h5\")\n",
    "# Use dataset.split method to do split\n",
    "train_data, val_data, test_data = small_dataset.split(0.8, 0.1, 0.1)"
   ]
  },
  {
   "cell_type": "code",
   "execution_count": 30,
   "id": "883c4337-ac07-4ef2-8f0a-51a084ab385e",
   "metadata": {},
   "outputs": [],
   "source": [
    "def TrueKFoldCV_ANI(\n",
    "    create_model_fn,\n",
    "    trainer_class,\n",
    "    full_dataset,\n",
    "    k=5,\n",
    "    dropout_rate=0.4,\n",
    "    learning_rate=1e-4,\n",
    "    batch_size=8192,\n",
    "    epochs=10,\n",
    "    l2=1e-5,\n",
    "    l1=1e-4,\n",
    "    multiple_runs=1,\n",
    "    random_seed=42\n",
    "):\n",
    "    device = torch.device(\"cuda\" if torch.cuda.is_available() else \"cpu\")\n",
    "    results = []\n",
    "    dataset_class = full_dataset.__class__\n",
    "\n",
    "    all_examples = list(full_dataset)\n",
    "\n",
    "    for run in range(1, multiple_runs+1):\n",
    "        print(f\"\\n=== RUN {run}/{multiple_runs} ===\")\n",
    "        rng = np.random.RandomState(random_seed + run)\n",
    "        rng.shuffle(all_examples)\n",
    "\n",
    "        kf = KFold(n_splits=k, shuffle=False)\n",
    "        for fold, (train_idx, val_idx) in enumerate(kf.split(all_examples), 1):\n",
    "            print(f\"-- Fold {fold}/{k} --\")\n",
    "\n",
    "            train_examples = [all_examples[i] for i in train_idx]\n",
    "            val_examples   = [all_examples[i] for i in val_idx]\n",
    "\n",
    "            train_ds = dataset_class(train_examples, transformations=())\n",
    "            val_ds   = dataset_class(val_examples,   transformations=())\n",
    "\n",
    "            model   = create_model_fn(dropout_rate).to(device)\n",
    "            trainer = trainer_class(model, batch_size, learning_rate, epochs, l2, l1)\n",
    "\n",
    "            trainer.train(train_ds, val_ds, early_stop=True, draw_curve=True)\n",
    "            val_loss = trainer.evaluate(val_ds, draw_plot=True)\n",
    "            print(f\"Validation Loss: {val_loss:.4f}\")\n",
    "\n",
    "            results.append({\n",
    "                'run': run,\n",
    "                'fold': fold,\n",
    "                'val_loss': val_loss\n",
    "            })\n",
    "\n",
    "    # Summarize as DataFrame\n",
    "    df = pd.DataFrame(results)\n",
    "    print(\"\\n=== Cross‐Validation Summary ===\")\n",
    "    print(df.groupby('fold')['val_loss'].agg(['mean','std']))\n",
    "    print(\"Overall:\", df['val_loss'].mean(), \"+/-\", df['val_loss'].std())\n",
    "\n",
    "    # Visualization\n",
    "    fold_means = df.groupby('fold')['val_loss'].mean()\n",
    "    plt.figure(figsize=(6,4))\n",
    "    fold_means.plot.bar()\n",
    "    plt.xlabel('Fold')\n",
    "    plt.ylabel('Mean Validation Loss')\n",
    "    plt.title('True K-fold CV Results')\n",
    "    plt.tight_layout()\n",
    "    plt.show()\n"
   ]
  },
  {
   "cell_type": "code",
   "execution_count": null,
   "id": "0fdc4074-37c0-4b15-9cc2-acc201cd48af",
   "metadata": {},
   "outputs": [
    {
     "name": "stdout",
     "output_type": "stream",
     "text": [
      "\n",
      "=== RUN 1/3 ===\n",
      "-- Fold 1/3 --\n",
      "Sequential - Number of parameters: 197636\n",
      "Initializing training data...\n"
     ]
    },
    {
     "name": "stderr",
     "output_type": "stream",
     "text": [
      "100%|██████████| 5/5 [03:19<00:00, 39.90s/it]\n"
     ]
    },
    {
     "data": {
      "image/png": "[encoded data removed]",
      "text/plain": [
       "<Figure size 500x400 with 1 Axes>"
      ]
     },
     "metadata": {},
     "output_type": "display_data"
    },
    {
     "data": {
      "image/png": "[encoded data removed]",
      "text/plain": [
       "<Figure size 500x400 with 1 Axes>"
      ]
     },
     "metadata": {},
     "output_type": "display_data"
    },
    {
     "name": "stdout",
     "output_type": "stream",
     "text": [
      "Validation Loss: 0.0004\n",
      "-- Fold 2/3 --\n",
      "Sequential - Number of parameters: 197636\n",
      "Initializing training data...\n"
     ]
    },
    {
     "name": "stderr",
     "output_type": "stream",
     "text": [
      " 20%|██        | 1/5 [00:36<02:27, 36.84s/it]"
     ]
    }
   ],
   "source": [
    "TrueKFoldCV_ANI(\n",
    "    create_model_fn    = create_ani_model,\n",
    "    trainer_class      = ANITrainer,\n",
    "    full_dataset       = small_dataset,\n",
    "    k                  = 3,\n",
    "    dropout_rate       = 0.4,\n",
    "    learning_rate      = 1e-4,\n",
    "    batch_size         = 4096,\n",
    "    epochs             = 5,\n",
    "    l2                 = 0.0,\n",
    "    l1                 = 1e-5,\n",
    "    multiple_runs      = 3 \n",
    ")"
   ]
  },
  {
   "cell_type": "code",
   "execution_count": null,
   "id": "689bf3cd-952e-48e3-96fd-cd4eecbe7eb6",
   "metadata": {},
   "outputs": [],
   "source": []
  }
 ],
 "metadata": {
  "kernelspec": {
   "display_name": "ani",
   "language": "python",
   "name": "ani"
  },
  "language_info": {
   "codemirror_mode": {
    "name": "ipython",
    "version": 3
   },
   "file_extension": ".py",
   "mimetype": "text/x-python",
   "name": "python",
   "nbconvert_exporter": "python",
   "pygments_lexer": "ipython3",
   "version": "3.10.0"
  }
 },
 "nbformat": 4,
 "nbformat_minor": 5
}
